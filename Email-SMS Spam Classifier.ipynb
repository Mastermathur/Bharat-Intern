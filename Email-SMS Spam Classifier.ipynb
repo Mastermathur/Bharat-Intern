{
 "cells": [
  {
   "cell_type": "markdown",
   "id": "fcc3d418-959f-4b65-901a-61b4a8a5c7a2",
   "metadata": {
    "tags": []
   },
   "source": [
    "<h1><center><u> Email - SMS Classifier</u> </center></h1>"
   ]
  },
  {
   "cell_type": "markdown",
   "id": "6e8ccd8b-15d1-4da6-b6fe-3be8a5361806",
   "metadata": {},
   "source": [
    "\n",
    "## Problem  Statement : Need to Classify that the Email, SMS is SPAM or Not SPAM"
   ]
  },
  {
   "cell_type": "markdown",
   "id": "79523d92-9607-4bc0-8b96-7cbe408520e8",
   "metadata": {},
   "source": [
    "## Step 1.a: Identify the Data \n",
    "\n",
    "#### For this project I am using two Different dataset from Kaggle one is Email Spam Dataset other is SMS spam Dataset"
   ]
  },
  {
   "cell_type": "code",
   "execution_count": 2,
   "id": "1ede5b52-37c3-4234-8b8c-1ac32a7a4ecb",
   "metadata": {},
   "outputs": [
    {
     "ename": "ModuleNotFoundError",
     "evalue": "No module named 'opendatasets'",
     "output_type": "error",
     "traceback": [
      "\u001b[1;31m---------------------------------------------------------------------------\u001b[0m",
      "\u001b[1;31mModuleNotFoundError\u001b[0m                       Traceback (most recent call last)",
      "\u001b[1;32m<ipython-input-2-527935e16314>\u001b[0m in \u001b[0;36m<module>\u001b[1;34m\u001b[0m\n\u001b[1;32m----> 1\u001b[1;33m \u001b[1;32mimport\u001b[0m \u001b[0mopendatasets\u001b[0m \u001b[1;32mas\u001b[0m \u001b[0mod\u001b[0m\u001b[1;33m\u001b[0m\u001b[1;33m\u001b[0m\u001b[0m\n\u001b[0m\u001b[0;32m      2\u001b[0m \u001b[1;32mimport\u001b[0m \u001b[0mos\u001b[0m\u001b[1;33m\u001b[0m\u001b[1;33m\u001b[0m\u001b[0m\n",
      "\u001b[1;31mModuleNotFoundError\u001b[0m: No module named 'opendatasets'"
     ]
    }
   ],
   "source": [
    "import opendatasets as od\n",
    "import os"
   ]
  },
  {
   "cell_type": "code",
   "execution_count": null,
   "id": "29c2631c-c1d6-4ad5-a9b1-187bded946c2",
   "metadata": {},
   "outputs": [],
   "source": [
    "path_SMS =r\"https://www.kaggle.com/datasets/assumewisely/sms-spam-collection\"\n",
    "path_email=r'https://www.kaggle.com/datasets/venky73/spam-mails-dataset'\n",
    "od.download(path_email)\n",
    "od.download(path_SMS)\n"
   ]
  },
  {
   "cell_type": "code",
   "execution_count": null,
   "id": "6b69baf6-3654-4c5d-9543-e5c3f85a9b72",
   "metadata": {},
   "outputs": [],
   "source": [
    "datadir_SMS ='sms-spam-collection'\n",
    "datadir_email ='spam-mails-dataset'\n",
    "print(\"Email-Spam File name :\",os.listdir(datadir_email))\n",
    "print(\"----------------------------------------------\")\n",
    "print(\"SMS-Spam File name :\",os.listdir(datadir_SMS))"
   ]
  },
  {
   "cell_type": "markdown",
   "id": "a4e5c9b5-e8ff-401e-a42e-f9b3f15598ff",
   "metadata": {},
   "source": [
    "## Step 1.b: Get the Data \n",
    "\n",
    "#### To get both data , notice that both files are in different format one in (.csv) and other in  (.tsv)"
   ]
  },
  {
   "cell_type": "code",
   "execution_count": null,
   "id": "8e45f0ba-7d32-4f51-bd52-1ed08c20c72a",
   "metadata": {},
   "outputs": [],
   "source": [
    "import pandas as pd"
   ]
  },
  {
   "cell_type": "code",
   "execution_count": null,
   "id": "37126bfb-2221-4184-982a-dcd273728692",
   "metadata": {},
   "outputs": [],
   "source": [
    "Email = pd.read_csv(r'spam-mails-dataset/spam_ham_dataset.csv')\n",
    "Email.head()"
   ]
  },
  {
   "cell_type": "code",
   "execution_count": null,
   "id": "8daf8f54-458c-408f-a2a4-a443b2772825",
   "metadata": {},
   "outputs": [],
   "source": [
    "SMS = pd.read_csv(r'sms-spam-collection/SMSSpamCollection.tsv',sep = '\\t')\n",
    "SMS.head()"
   ]
  },
  {
   "cell_type": "markdown",
   "id": "70dece11-a6b5-459b-b294-137ced7e757d",
   "metadata": {},
   "source": [
    "## Step 2: Explore the Data"
   ]
  },
  {
   "cell_type": "code",
   "execution_count": null,
   "id": "cee735cb-3589-4714-a455-6f5f91b0c547",
   "metadata": {},
   "outputs": [],
   "source": [
    "print(Email.text.head())\n",
    "print(Email.text.tail())"
   ]
  },
  {
   "cell_type": "markdown",
   "id": "543b70c1-b069-4fe9-8f84-b09d9c5c7c91",
   "metadata": {},
   "source": [
    "### Analyse 0: \n",
    "#### Text in  E-Mail contain \"Subject :\" Need to remove this .\n"
   ]
  },
  {
   "cell_type": "code",
   "execution_count": null,
   "id": "eeb0b5ba-8ace-43db-8083-8f1e69786ab8",
   "metadata": {},
   "outputs": [],
   "source": [
    "# Explore Number of Rows and Columns in E-Mail and SMS\n",
    "\n",
    "print(\"\\n --------------- E-Mail -----------------------\")\n",
    "print(\"No. Of Rows in E-Mail :\",Email.shape[0])\n",
    "print(\"No. Of Columns in E-Mail :\",Email.shape[1])\n",
    "print(\"\\n --------------- SMS -----------------------\")\n",
    "print(\"No. Of Rows in SMS :\",SMS.shape[0])\n",
    "print(\"No. Of Columns in SMS :\",SMS.shape[1],\"\\n\")"
   ]
  },
  {
   "cell_type": "markdown",
   "id": "ff534e23-74f3-4fb7-be05-e6619857d858",
   "metadata": {},
   "source": [
    "### Analyse 1: \n",
    "#### Number of rows in E-Mail is less than SMS and No. of columns in SMS is more than E-Mail\n"
   ]
  },
  {
   "cell_type": "code",
   "execution_count": null,
   "id": "02be81e4-90c0-4550-82a4-e0dd9836dad0",
   "metadata": {},
   "outputs": [],
   "source": [
    "# Explore Features in E-Mail and SMS\n",
    "\n",
    "print(\"\\n ------------------------------------ E-Mail ------------------------------------------------------------------------\\n\")\n",
    "print(\"Feature Name in E-Mail :\",Email.columns,\"\\n\")\n",
    "\n",
    "print(\"\\n ------------------------------------ SMS ---------------------------------------------------------------------------\\n\")\n",
    "print(\"Feature Name in SMS :\",SMS.columns,\"\\n\")"
   ]
  },
  {
   "cell_type": "markdown",
   "id": "23bc49b5-2143-48ec-a072-33d45e195a56",
   "metadata": {},
   "source": [
    "### Analyse 2: \n",
    "#### 1. In E-Mail only Label and text feature name import so drop other feature name.\n",
    "#### 2. In SMS need to Rename feature name.\n",
    "#### 3. Label_num alsi important in SMS but there are no such feature So after concat both we create new feature called label no."
   ]
  },
  {
   "cell_type": "code",
   "execution_count": null,
   "id": "07984df1-83c4-4b69-854c-a09b3dade18a",
   "metadata": {},
   "outputs": [],
   "source": [
    "# checking Null in E-mail and SMS\n",
    "\n",
    "print(\"\\n --------------- E-Mail -----------------------\")\n",
    "print(Email.isna().sum())\n",
    "print(\"\\n --------------- SMS -----------------------\")\n",
    "print(SMS.isna().sum(),\"\\n\")"
   ]
  },
  {
   "cell_type": "markdown",
   "id": "7989fb85-6ae9-41ce-a740-d576bb096fd5",
   "metadata": {},
   "source": [
    "### Analyse 3: \n",
    "####  No Null Value in both(E-mail & SMS)"
   ]
  },
  {
   "cell_type": "code",
   "execution_count": null,
   "id": "94c26cb4-f935-4aac-87d9-687da159e2bf",
   "metadata": {},
   "outputs": [],
   "source": [
    "Email.info()"
   ]
  },
  {
   "cell_type": "code",
   "execution_count": null,
   "id": "2103a332-c6f3-405d-b114-85c68791dab8",
   "metadata": {},
   "outputs": [],
   "source": [
    "SMS.info()"
   ]
  },
  {
   "cell_type": "code",
   "execution_count": null,
   "id": "5a78ed9f-3a5a-4609-b791-a8835c100dac",
   "metadata": {},
   "outputs": [],
   "source": []
  },
  {
   "cell_type": "markdown",
   "id": "6cdec221-947c-49bd-b777-de0ccdc836e4",
   "metadata": {
    "tags": []
   },
   "source": [
    "## Step 2 : EDA\n",
    "\n",
    "#### Wrangling Data"
   ]
  },
  {
   "cell_type": "code",
   "execution_count": null,
   "id": "df716329-b862-44fb-bbe8-502eb69a5713",
   "metadata": {},
   "outputs": [],
   "source": [
    "# Dropping the feature Name ['Unnamed: 0','label_num'] in Email Dataset\n",
    "\n",
    "drop_feature_name= ['Unnamed: 0','label_num']\n",
    "\n",
    "Email = Email.drop(columns=drop_feature_name ,axis=1)\n",
    "Email.head()"
   ]
  },
  {
   "cell_type": "code",
   "execution_count": null,
   "id": "425d1ad0-3351-49c8-9b40-8ec4036f0569",
   "metadata": {},
   "outputs": [],
   "source": [
    "# Text in  E-Mail contain \"Subject :\" Need to remove this .\n",
    "Email['text'] = Email['text'].str[len('Subject:'):]\n",
    "Email['text'].head()"
   ]
  },
  {
   "cell_type": "code",
   "execution_count": null,
   "id": "6ca8aef2-cd44-4247-a9a9-7f0b67ff939c",
   "metadata": {},
   "outputs": [],
   "source": [
    "# Rename the feature Name  in SMS Dataset\n",
    "\n",
    "rename_feature_name= {\"ham\" : \"label\", \n",
    "                      \"I've been searching for the right words to thank you for this breather. I promise i wont take your help for granted and will fulfil my promise. You have been wonderful and a blessing at all times.\" : \"text\"}\n",
    "\n",
    "SMS = SMS.rename(columns=rename_feature_name)\n",
    "SMS.head()"
   ]
  },
  {
   "cell_type": "code",
   "execution_count": null,
   "id": "f030594d-01d1-44e3-bf35-1ce5be4f9cb5",
   "metadata": {},
   "outputs": [],
   "source": [
    "# Explore Number of Rows and Columns in E-Mail and SMS\n",
    "\n",
    "print(\"\\n --------------- E-Mail -----------------------\")\n",
    "print(\"No. Of Rows in E-Mail :\",Email.shape[0])\n",
    "print(\"No. Of Columns in E-Mail :\",Email.shape[1])\n",
    "print(\"\\n --------------- SMS -----------------------\")\n",
    "print(\"No. Of Rows in SMS :\",SMS.shape[0])\n",
    "print(\"No. Of Columns in SMS :\",SMS.shape[1],\"\\n\")"
   ]
  },
  {
   "cell_type": "code",
   "execution_count": null,
   "id": "7a86fac7-5ce0-4ced-9193-a822a7b76512",
   "metadata": {},
   "outputs": [],
   "source": [
    "# Concate Both E-Mail and SMS Dataset\n",
    "data = pd.concat([Email , SMS ],ignore_index=True)\n",
    "data.head()"
   ]
  },
  {
   "cell_type": "code",
   "execution_count": null,
   "id": "8e639d1b-a953-4405-8112-fa2c63774157",
   "metadata": {},
   "outputs": [],
   "source": [
    "# data =Email.copy()"
   ]
  },
  {
   "cell_type": "code",
   "execution_count": null,
   "id": "0b7dd08c-fb09-4cc7-955f-c64857be26d4",
   "metadata": {},
   "outputs": [],
   "source": [
    "data.tail()"
   ]
  },
  {
   "cell_type": "code",
   "execution_count": null,
   "id": "08549343-8bcc-4fca-ac31-ab6412bcc30a",
   "metadata": {},
   "outputs": [],
   "source": [
    "print(\"\\n --------------- Final-Data -----------------------\")\n",
    "print(\"No. Of Rows in Data :\",data.shape[0])\n",
    "print(\"No. Of Columns in Data :\",data.shape[1])\n"
   ]
  },
  {
   "cell_type": "code",
   "execution_count": null,
   "id": "c400eb32-5a33-4715-bd49-6d34bcaab118",
   "metadata": {},
   "outputs": [],
   "source": [
    "# Rename label to target in data\n",
    "# data = data.rename(columns={'label' :'target'})\n",
    "data['target'] = data['label']\n",
    "data.columns"
   ]
  },
  {
   "cell_type": "code",
   "execution_count": null,
   "id": "8314971f-584e-4387-8da6-164ebf9861a5",
   "metadata": {},
   "outputs": [],
   "source": [
    "# cheacking null\n",
    "data.isna().sum()"
   ]
  },
  {
   "cell_type": "code",
   "execution_count": null,
   "id": "621e0756-b263-4a11-b40d-73c14c896e5c",
   "metadata": {},
   "outputs": [],
   "source": [
    "# No. of Ham and Spam in label\n",
    "\n",
    "print(\"No. of Ham and Spam in label\")\n",
    "data.target.value_counts()"
   ]
  },
  {
   "cell_type": "code",
   "execution_count": null,
   "id": "f4195497-433e-46ad-923f-74a50b5e9b61",
   "metadata": {},
   "outputs": [],
   "source": [
    "# grouping label to check describtion\n",
    "\n",
    "data.groupby(data.target).describe()"
   ]
  },
  {
   "cell_type": "markdown",
   "id": "a183a8b3-f4d7-46da-add8-d2dd899ca684",
   "metadata": {},
   "source": [
    "## Labelize the Feature Target Feature"
   ]
  },
  {
   "cell_type": "code",
   "execution_count": null,
   "id": "3209a61a-9b70-4520-8c55-c51900591b68",
   "metadata": {},
   "outputs": [],
   "source": [
    "from sklearn.preprocessing import LabelEncoder\n",
    "le = LabelEncoder()\n",
    "data['target'] = le.fit_transform(data['target'])\n"
   ]
  },
  {
   "cell_type": "code",
   "execution_count": null,
   "id": "752111b3-edbc-42cf-8916-2ebd4ef56ec7",
   "metadata": {},
   "outputs": [],
   "source": [
    "data.head()"
   ]
  },
  {
   "cell_type": "code",
   "execution_count": null,
   "id": "ba94f8fb-5eb1-4f54-9f0e-c9d1f51edc03",
   "metadata": {},
   "outputs": [],
   "source": [
    "import matplotlib.pyplot as plt\n",
    "%matplotlib inline"
   ]
  },
  {
   "cell_type": "code",
   "execution_count": null,
   "id": "c23bd95d-dfb3-49fd-bc7f-ef0bba23a6d5",
   "metadata": {},
   "outputs": [],
   "source": [
    "plt.figure(facecolor=\"white\",figsize=(8,8))\n",
    "plt.pie(data['target'].value_counts(), labels=['ham','spam'] ,colors=['#4f772d','#720026'], autopct='%0.2f%%',shadow=True,textprops={'fontsize': 15});\n",
    "plt.title(\"Distribution of Ham/Spam\",fontsize=22);\n"
   ]
  },
  {
   "cell_type": "markdown",
   "id": "15101496-f61e-4eeb-8add-283312876141",
   "metadata": {},
   "source": [
    "### Analyse 4: \n",
    "####  Is Seem data is not Balance % of Ham(79.09%)  more than % of spam(20.91%)"
   ]
  },
  {
   "cell_type": "code",
   "execution_count": null,
   "id": "febd9f3f-49b8-4cbb-8b4c-e462caf92487",
   "metadata": {},
   "outputs": [],
   "source": [
    "import nltk"
   ]
  },
  {
   "cell_type": "code",
   "execution_count": null,
   "id": "e529427b-f210-47c3-a54f-9f5f92203b85",
   "metadata": {},
   "outputs": [],
   "source": [
    "nltk.download('punkt')"
   ]
  },
  {
   "cell_type": "code",
   "execution_count": null,
   "id": "42381d02-6479-49d5-a823-dd8cbda78455",
   "metadata": {
    "tags": []
   },
   "outputs": [],
   "source": [
    "data['no_of_characters']=data['text'].apply(len)"
   ]
  },
  {
   "cell_type": "code",
   "execution_count": null,
   "id": "9b887928-7b1a-47ab-942a-bf1ed7693190",
   "metadata": {},
   "outputs": [],
   "source": [
    "data.head(2)"
   ]
  },
  {
   "cell_type": "code",
   "execution_count": null,
   "id": "40617115-304a-48bd-b4ec-af2446c13746",
   "metadata": {},
   "outputs": [],
   "source": [
    "data['no_of_words'] = data['text'].apply(lambda x :len( nltk.word_tokenize(x)))"
   ]
  },
  {
   "cell_type": "code",
   "execution_count": null,
   "id": "653a29fc-1304-4a42-a750-1a61de6063e8",
   "metadata": {
    "tags": []
   },
   "outputs": [],
   "source": [
    "data.head(2)"
   ]
  },
  {
   "cell_type": "code",
   "execution_count": null,
   "id": "ba86d6f3-6863-4cd4-a51b-730be2e835f4",
   "metadata": {},
   "outputs": [],
   "source": [
    "data['no_of_Sentence'] = data['text'].apply(lambda x :len( nltk.sent_tokenize(x)))"
   ]
  },
  {
   "cell_type": "code",
   "execution_count": null,
   "id": "c9165a48-f555-4bfa-bd0a-bda9de57d2d5",
   "metadata": {},
   "outputs": [],
   "source": [
    "data.head(2)"
   ]
  },
  {
   "cell_type": "code",
   "execution_count": null,
   "id": "ec65e0d7-31d5-487b-888b-b7e111782157",
   "metadata": {},
   "outputs": [],
   "source": [
    "data.describe()"
   ]
  },
  {
   "cell_type": "code",
   "execution_count": null,
   "id": "c73d8629-5a45-4976-b4dc-c58a9a1895ce",
   "metadata": {},
   "outputs": [],
   "source": [
    "# Ham\n",
    "data[data['target']==0].describe()"
   ]
  },
  {
   "cell_type": "code",
   "execution_count": null,
   "id": "d392b422-1679-414b-a7b8-5f06ad083de2",
   "metadata": {},
   "outputs": [],
   "source": [
    "# Spam\n",
    "data[data['target']==1].describe()"
   ]
  },
  {
   "cell_type": "code",
   "execution_count": null,
   "id": "bc1d46f3-d054-438a-9b4d-2c61b5b838c2",
   "metadata": {
    "tags": []
   },
   "outputs": [],
   "source": [
    "import seaborn as sns"
   ]
  },
  {
   "cell_type": "code",
   "execution_count": null,
   "id": "a248b05c-ae5c-4081-b14b-d8bc8103cd07",
   "metadata": {},
   "outputs": [],
   "source": [
    "data[data['target']==0]['no_of_characters']"
   ]
  },
  {
   "cell_type": "code",
   "execution_count": null,
   "id": "6b60a661-998e-4c4b-98c9-d9f016ac4edd",
   "metadata": {},
   "outputs": [],
   "source": [
    "plt.figure(figsize=(25,5))\n",
    "sns.histplot(data[data['target']==0]['no_of_characters'],color='#4f772d',log_scale=True)\n",
    "sns.histplot(data[data['target']==1]['no_of_characters'],color='#720026',log_scale=True)\n",
    "plt.title(\"Distribution of No. of Characters in Ham/Spam\",fontsize=22)\n",
    "plt.xlabel('No of Character',fontsize=15)\n",
    "plt.ylabel('Count',fontsize=15)\n",
    "plt.legend(['Ham','Spam'],fontsize=15);"
   ]
  },
  {
   "cell_type": "code",
   "execution_count": null,
   "id": "ab348368-002d-425c-a363-4294b4121515",
   "metadata": {},
   "outputs": [],
   "source": [
    "plt.figure(figsize=(25,5))\n",
    "sns.histplot(data[data['label']=='ham']['no_of_Sentence'],color='#4f772d')\n",
    "sns.histplot(data[data['label']=='spam']['no_of_Sentence'],color='#720026')\n",
    "\n",
    "plt.title(\"Distribution of No. of Sentence in Ham/Spam\",fontsize=22)\n",
    "plt.xlabel('No of Sentence',fontsize=15)\n",
    "plt.ylabel('Count',fontsize=15)\n",
    "plt.legend(['Spam','Ham'],fontsize=15)\n",
    "plt.loglog(True)\n",
    "plt.yscale('log');"
   ]
  },
  {
   "cell_type": "code",
   "execution_count": null,
   "id": "34f1cc15-c912-4d26-bfed-439777b12c07",
   "metadata": {},
   "outputs": [],
   "source": [
    "\n",
    "plt.figure(figsize=(25,5))\n",
    "sns.histplot(data[data['label']=='ham']['no_of_words'],color='#720026')\n",
    "sns.histplot(data[data['label']=='spam']['no_of_words'],color='#4f772d')\n",
    "\n",
    "\n",
    "plt.title(\"Distribution of No. of Words in Ham/Spam\",fontsize=22)\n",
    "plt.xlabel('No of Words',fontsize=15)\n",
    "plt.ylabel('Count',fontsize=15)\n",
    "plt.legend(['Spam','Ham'],fontsize=15)\n",
    "plt.loglog(True)\n",
    "plt.yscale('log');"
   ]
  },
  {
   "cell_type": "code",
   "execution_count": null,
   "id": "6367a8b7-51be-4b30-a44f-68cfd91e5a37",
   "metadata": {},
   "outputs": [],
   "source": [
    "plt.figure(figsize=(8,8))\n",
    "sns.heatmap(data.corr(),annot=True);\n",
    "# sns.set(font_scale=1.4);"
   ]
  },
  {
   "cell_type": "markdown",
   "id": "c2c669b3-6935-473b-bf7c-9f3a27087b90",
   "metadata": {},
   "source": [
    "#### 3. Data Preprocessing\n",
    "        Lower case\n",
    "        Tokenization\n",
    "        Removing special characters\n",
    "        Removing stop words and punctuation\n",
    "        Stemming"
   ]
  },
  {
   "cell_type": "code",
   "execution_count": null,
   "id": "48c6dc0e-2830-49cb-92da-99b9e0c5772f",
   "metadata": {},
   "outputs": [],
   "source": [
    "from  nltk.corpus import stopwords\n",
    "nltk.download('stopwords')\n"
   ]
  },
  {
   "cell_type": "code",
   "execution_count": null,
   "id": "0fd8b70f-7b3b-42a6-8bc8-d1cdc45eacff",
   "metadata": {},
   "outputs": [],
   "source": [
    "from nltk.stem.porter import PorterStemmer\n",
    "ps =PorterStemmer()\n",
    "ps.stem('breaking')"
   ]
  },
  {
   "cell_type": "code",
   "execution_count": null,
   "id": "d2283068-7c9e-4618-894c-58510e313c9d",
   "metadata": {},
   "outputs": [],
   "source": [
    "def transform_text(text):\n",
    "    \n",
    "    # 1. Lower case\n",
    "    text = text.lower()\n",
    "    \n",
    "   # 2. Tokenization\n",
    "    text = nltk.word_tokenize(text)\n",
    "    \n",
    "   # 3.Removing special characters\n",
    "    List_stoage = []\n",
    "    \n",
    "    for word in text:\n",
    "\n",
    "        if word.isalnum():\n",
    "            List_stoage.append(word)\n",
    "            \n",
    "    # 4.Removing stop words \n",
    "    text = List_stoage.copy()\n",
    "    List_stoage.clear()\n",
    "    \n",
    "    for word in text:\n",
    "        if word not in stopwords.words('english'):\n",
    "            List_stoage.append(word)  \n",
    "    \n",
    "    # 5.Stemming\n",
    "    text = List_stoage.copy()\n",
    "    List_stoage.clear()\n",
    "    \n",
    "    for word in text:\n",
    "        List_stoage.append(ps.stem(word)) \n",
    "    \n",
    "    # 6. return the string\n",
    "    return \" \".join(List_stoage)"
   ]
  },
  {
   "cell_type": "code",
   "execution_count": null,
   "id": "fce09ceb-a9ac-4d77-be9d-7cb16442772a",
   "metadata": {},
   "outputs": [],
   "source": [
    "transform_text(\"Hi how Are You breaking dancing girl @ 200 '! #$%&\\'()*+,-./:;<=>?@[\\\\]^_`{|}~' \")"
   ]
  },
  {
   "cell_type": "code",
   "execution_count": null,
   "id": "0f827340-4f47-4f6f-9bd8-e60851014b95",
   "metadata": {},
   "outputs": [],
   "source": [
    "stopwords.words('english')[:10]"
   ]
  },
  {
   "cell_type": "code",
   "execution_count": null,
   "id": "58da67a5-83d2-4d6c-bf48-6179b1768a23",
   "metadata": {},
   "outputs": [],
   "source": [
    "data['text'][9:10]"
   ]
  },
  {
   "cell_type": "code",
   "execution_count": null,
   "id": "20a92b75-0ec7-4139-aaa8-3ca1ecf23b98",
   "metadata": {},
   "outputs": [],
   "source": [
    "transform_text(str(data['text'][0:1]))"
   ]
  },
  {
   "cell_type": "markdown",
   "id": "702d3d2f-9852-47d8-aba0-9d20cd3cfd18",
   "metadata": {},
   "source": [
    "### Transform text with Function"
   ]
  },
  {
   "cell_type": "code",
   "execution_count": null,
   "id": "e182d410-3e44-4267-ae09-7ca2e9112544",
   "metadata": {},
   "outputs": [],
   "source": [
    "data['transform_text'] = data['text'].apply(transform_text) "
   ]
  },
  {
   "cell_type": "code",
   "execution_count": null,
   "id": "62ffa7d6-616b-469d-be16-f522db4baa4c",
   "metadata": {
    "jp-MarkdownHeadingCollapsed": true,
    "tags": []
   },
   "outputs": [],
   "source": [
    "data.tail(2)"
   ]
  },
  {
   "cell_type": "code",
   "execution_count": null,
   "id": "a722efcd-26a5-4450-9068-b3427f5a54e2",
   "metadata": {},
   "outputs": [],
   "source": [
    "from wordcloud import WordCloud\n",
    "wc =WordCloud(width=600 ,height=500,min_font_size=10,background_color='white')"
   ]
  },
  {
   "cell_type": "code",
   "execution_count": null,
   "id": "500edc83-6026-4717-b2e4-bab3c09bf5c3",
   "metadata": {},
   "outputs": [],
   "source": [
    "Ham_wc =wc.generate(data[data['target']==0]['transform_text'].str.cat(sep=' '));"
   ]
  },
  {
   "cell_type": "code",
   "execution_count": null,
   "id": "5d58991b-50d2-4469-a113-3b91149a7c92",
   "metadata": {
    "tags": []
   },
   "outputs": [],
   "source": [
    "plt.figure(figsize=(50,20))\n",
    "plt.imshow(Ham_wc);"
   ]
  },
  {
   "cell_type": "code",
   "execution_count": null,
   "id": "29b134af-d52d-424c-b7f2-8e76ccc0a613",
   "metadata": {},
   "outputs": [],
   "source": [
    "Spam_wc =wc.generate(data[data['target']==1]['transform_text'].str.cat(sep=' '));"
   ]
  },
  {
   "cell_type": "code",
   "execution_count": null,
   "id": "f0169b84-ec27-4424-a50b-0282649ccc6c",
   "metadata": {
    "tags": []
   },
   "outputs": [],
   "source": [
    "plt.figure(figsize=(50,20))\n",
    "plt.imshow(Spam_wc);"
   ]
  },
  {
   "cell_type": "code",
   "execution_count": null,
   "id": "00357882-8d93-439f-8dbb-9ca7cf137a04",
   "metadata": {},
   "outputs": [],
   "source": [
    "ham_word = []\n",
    "for text in data[data['label']=='ham']['transform_text'].tolist():\n",
    "    for word in text.split():\n",
    "        ham_word.append(word)\n"
   ]
  },
  {
   "cell_type": "code",
   "execution_count": null,
   "id": "4cab0b90-ef1a-4e2c-8908-9bbcdf7cd559",
   "metadata": {
    "tags": []
   },
   "outputs": [],
   "source": [
    "len(ham_word)"
   ]
  },
  {
   "cell_type": "code",
   "execution_count": null,
   "id": "74fea83f-cd31-4286-9a6e-fcc293a59eae",
   "metadata": {},
   "outputs": [],
   "source": [
    "import warnings\n",
    "warnings.filterwarnings('ignore')\n",
    "from collections import Counter"
   ]
  },
  {
   "cell_type": "code",
   "execution_count": null,
   "id": "627d6601-7516-45bb-a412-d999eb65ec43",
   "metadata": {},
   "outputs": [],
   "source": [
    "ham_data = pd.DataFrame(Counter(ham_word).most_common(30),columns=['word','count'])\n",
    "ham_data.head()"
   ]
  },
  {
   "cell_type": "code",
   "execution_count": null,
   "id": "3f3d098a-77c0-4ad9-b437-93bdaff562cb",
   "metadata": {},
   "outputs": [],
   "source": [
    "\n",
    "plt.figure(figsize=(25,10))\n",
    "sns.barplot(x='word',y='count',data=ham_data)\n",
    "plt.xticks(rotation='vertical')\n",
    "plt.title(\"30 Ham  Word's Count\",fontsize=22)\n",
    "plt.xlabel('Most Commom Words',fontsize=15)\n",
    "plt.ylabel('Count',fontsize=15);\n",
    "\n"
   ]
  },
  {
   "cell_type": "code",
   "execution_count": null,
   "id": "4c2f89ff-cae2-4c18-abf9-04050b939186",
   "metadata": {},
   "outputs": [],
   "source": [
    "spam_word = []\n",
    "for text in data[data['label']=='spam']['transform_text'].tolist():\n",
    "    for word in text.split():\n",
    "        spam_word.append(word)"
   ]
  },
  {
   "cell_type": "code",
   "execution_count": null,
   "id": "c6e98f1a-9d94-46be-84fd-23cd64096c0e",
   "metadata": {},
   "outputs": [],
   "source": [
    "len(spam_word)"
   ]
  },
  {
   "cell_type": "code",
   "execution_count": null,
   "id": "43255bc3-4d1f-423b-9303-fc551083ddd2",
   "metadata": {},
   "outputs": [],
   "source": [
    "spam_data = pd.DataFrame(Counter(spam_word).most_common(30),columns=['word','count'])\n",
    "spam_data.head()"
   ]
  },
  {
   "cell_type": "code",
   "execution_count": null,
   "id": "95afddad-a321-4933-b8d0-9e308bd9f7c7",
   "metadata": {},
   "outputs": [],
   "source": [
    "plt.figure(figsize=(25,10))\n",
    "sns.barplot(x='word',y='count',data=spam_data)\n",
    "plt.xticks(rotation='vertical')\n",
    "plt.title(\"30 Spmam  Word's Count\",fontsize=22)\n",
    "plt.xlabel('Most Commom Spam Words',fontsize=15)\n",
    "plt.ylabel('Count',fontsize=15);\n"
   ]
  },
  {
   "cell_type": "code",
   "execution_count": null,
   "id": "8326d992-5656-4fbd-b9af-c6ff3be118b9",
   "metadata": {},
   "outputs": [],
   "source": [
    "data.head(2)"
   ]
  },
  {
   "cell_type": "markdown",
   "id": "b316ef7b-5f39-4346-8f93-18721acb23df",
   "metadata": {},
   "source": [
    "# 4. Model Building"
   ]
  },
  {
   "cell_type": "code",
   "execution_count": null,
   "id": "6a6f0a15-107a-416d-abe4-a4b71f676246",
   "metadata": {},
   "outputs": [],
   "source": [
    "# Divide Independent Feature (X) --Vector_text ,dependent Feature (y) --target\n",
    "X =data['transform_text']\n",
    "y = data['target']"
   ]
  },
  {
   "cell_type": "code",
   "execution_count": null,
   "id": "951d6d54-506f-47cd-997e-3b3c72bb7b32",
   "metadata": {},
   "outputs": [],
   "source": [
    "# split train ,test X and y\n",
    "from sklearn.model_selection import train_test_split\n",
    "X_train,X_test,y_train,y_test = train_test_split(X,y,test_size=0.2)"
   ]
  },
  {
   "cell_type": "code",
   "execution_count": null,
   "id": "4d8d7f79-33ad-45a9-8064-a1137b6743b2",
   "metadata": {},
   "outputs": [],
   "source": [
    "# Vectoized our Text Feature\n",
    "\n",
    "from sklearn.feature_extraction.text import CountVectorizer\n",
    "count_vector = CountVectorizer()\n",
    "X_train_count = count_vector.fit_transform(X_train.values).toarray()\n",
    "X_test_count = count_vector.transform(X_test.values).toarray()"
   ]
  },
  {
   "cell_type": "code",
   "execution_count": null,
   "id": "4b036249-e02c-427d-80bd-4d3ab6cb7a21",
   "metadata": {},
   "outputs": [],
   "source": [
    "X_train_count"
   ]
  },
  {
   "cell_type": "code",
   "execution_count": null,
   "id": "7eb6258a-cfee-43bd-b56f-13459a25685a",
   "metadata": {},
   "outputs": [],
   "source": [
    "X_test_count"
   ]
  },
  {
   "cell_type": "code",
   "execution_count": null,
   "id": "432160e4-0e84-43e5-b56c-4953e96ca81b",
   "metadata": {
    "tags": []
   },
   "outputs": [],
   "source": [
    "# Libaries for Model - Classifier\n",
    "\n",
    "from sklearn.linear_model import LogisticRegression\n",
    "from sklearn.tree import DecisionTreeClassifier\n",
    "from sklearn.svm import SVC\n",
    "from sklearn.neighbors import KNeighborsClassifier\n",
    "from sklearn.naive_bayes import BernoulliNB\n",
    "from sklearn.naive_bayes import MultinomialNB\n",
    "from sklearn.naive_bayes import GaussianNB\n",
    "from sklearn.ensemble import AdaBoostClassifier,BaggingClassifier,GradientBoostingClassifier,RandomForestClassifier\n",
    "from xgboost import XGBClassifier\n",
    "\n",
    "print('import Successfully')"
   ]
  },
  {
   "cell_type": "markdown",
   "id": "950fc17c-f8d0-4c5f-8ce5-8e600323da57",
   "metadata": {
    "tags": []
   },
   "source": [
    "# Hyper-Parameter Tuning\n",
    "\n",
    "model_parameter ={\n",
    "    \n",
    "    \"Logistic_Regression\" :{\n",
    "                            \"model\" : LogisticRegression(solver='liblinear'),\n",
    "                            \"param\" : {}\n",
    "                           },\n",
    "    \n",
    "    \"Decision_Tree\" :{\n",
    "                            \"model\" : DecisionTreeClassifier(),\n",
    "                            \"param\" : {}\n",
    "                     },\n",
    "    \n",
    "    \"SVC\" : {\n",
    "                            \"model\" : SVC(),\n",
    "                            \"param\" : {}\n",
    "           },\n",
    "    \n",
    "    \"KNeighborsClassifier\" : {\n",
    "                            \"model\" : KNeighborsClassifier(),\n",
    "                            \"param\" : {'n_neighbors' : [5,6]}\n",
    "                            },\n",
    "    \n",
    "    \"BernoulliNB\" :  {\n",
    "                        \"model\" : BernoulliNB(),\n",
    "                        \"param\" : {}\n",
    "                             },\n",
    "    \n",
    "    \"MultinomialNB\" : {\n",
    "                        \"model\" : MultinomialNB(),\n",
    "                         \"param\" : {}\n",
    "                     },\n",
    "    \n",
    "     \"GaussianNB\" :{\n",
    "                        \"model\" : GaussianNB(),\n",
    "                        \"param\" : {}\n",
    "                      },\n",
    "    \n",
    "    \"RandomForestClassifier\" :{\n",
    "                        \"model\" : RandomForestClassifier(),\n",
    "                        \"param\" : {}\n",
    "                          },\n",
    "    \n",
    "    \"BaggingClassifier\" :{\n",
    "                        \"model\" : BaggingClassifier(oob_score=True,max_samples = 0.8),\n",
    "                        \"param\" : {}\n",
    "                          },\n",
    "    \n",
    "     \"AdaBoostClassifier\" :{\n",
    "                        \"model\" : AdaBoostClassifier(),\n",
    "                        \"param\" : {}\n",
    "                          },\n",
    "    \n",
    "    \"GradientBoostingClassifier\" :{\n",
    "                        \"model\" : GradientBoostingClassifier(),\n",
    "                        \"param\" : {}\n",
    "                          },\n",
    "    \n",
    "    \"XGBClassifier\" :{\n",
    "                        \"model\" : XGBClassifier(),\n",
    "                        \"param\" : {'criterion':['gini','entropy']}\n",
    "                          }\n",
    "}"
   ]
  },
  {
   "cell_type": "markdown",
   "id": "c9c1c0f9-9c79-4799-8565-cfcb117b64b3",
   "metadata": {},
   "source": [
    "    # Model Section \n",
    "    from sklearn.model_selection import RandomizedSearchCV"
   ]
  },
  {
   "cell_type": "markdown",
   "id": "49cd23fd-4e56-4524-b03d-92df4d6fb034",
   "metadata": {},
   "source": [
    "    Score = []\n",
    "    for model_name ,model_param in model_parameter.items():\n",
    "        rs = RandomizedSearchCV(model_param['model'],model_param['param'],cv = 5,return_train_score=False,n_iter=10)\n",
    "        rs.fit(X,y)\n",
    "        Score.append({'Model': model_name,\n",
    "                     'Best_Score' : rs.best_score_,\n",
    "                     'Best_Parameter' : rs.best_params_})\n",
    "\n",
    "    Model_Report = pd.DataFrame(scores,columns=['Model','Best_Score','Best_Parameter'])\n",
    "    Model_Report\n",
    "\n",
    "    "
   ]
  },
  {
   "cell_type": "code",
   "execution_count": null,
   "id": "438f4fe4-c31e-4e3c-b9cf-77e5dc960c54",
   "metadata": {},
   "outputs": [],
   "source": [
    "         "
   ]
  },
  {
   "cell_type": "markdown",
   "id": "2617ede8-5e4b-4a92-966d-a767395a16cf",
   "metadata": {
    "tags": []
   },
   "source": [
    "    model_clf = {\n",
    "        'SVC' : SVC(kernel='sigmoid', gamma=1.0),\n",
    "        'KNC' : KNeighborsClassifier(), \n",
    "        'MNB': MultinomialNB(), \n",
    "        'BNB': BernoulliNB(), \n",
    "        'GNB': GaussianNB(), \n",
    "        'DT': DecisionTreeClassifier(max_depth=5), \n",
    "        'LR': LogisticRegression(solver='liblinear', penalty='l1'), \n",
    "        'RF': RandomForestClassifier(n_estimators=50, random_state=2), \n",
    "        'AdaBoost': AdaBoostClassifier(n_estimators=50, random_state=2), \n",
    "        'BgC': BaggingClassifier(n_estimators=50, random_state=2), \n",
    "        'GBDT':GradientBoostingClassifier(n_estimators=50,random_state=2),\n",
    "        'xgb': XGBClassifier(n_estimators=50,random_state=2)\n",
    "    }"
   ]
  },
  {
   "cell_type": "markdown",
   "id": "8550c1f0-0db2-4684-887d-c0b0215a2f7f",
   "metadata": {},
   "source": [
    "def train_classifier(clf,X_train,y_train,X_test,y_test):\n",
    "    clf.fit(X_train,y_train)\n",
    "    score = clf.score(X_test,y_test)\n",
    "    return score"
   ]
  },
  {
   "cell_type": "markdown",
   "id": "543b068d-c1af-4d83-aee2-b49633e70c96",
   "metadata": {},
   "source": [
    "Score =[]\n",
    "for model_name,clf in model_clf.items():\n",
    "    \n",
    "    score = train_classifier(clf, X_train,y_train,X_test,y_test)\n",
    "    \n",
    "    Score.append({'Model': model_name,\n",
    "                 'Score' : score\n",
    "                 })\n",
    "    \n",
    "Model_Report = pd.DataFrame(Score,columns=['Model','Score'])\n",
    "Model_Report\n",
    "    "
   ]
  },
  {
   "cell_type": "code",
   "execution_count": null,
   "id": "21dbb39e-f4e4-4d48-9978-97b778f98714",
   "metadata": {},
   "outputs": [],
   "source": [
    "from sklearn.metrics import accuracy_score,confusion_matrix,precision_score"
   ]
  },
  {
   "cell_type": "code",
   "execution_count": null,
   "id": "e18d7b9b-cdf1-4490-97c1-db143e4072e8",
   "metadata": {},
   "outputs": [],
   "source": [
    "model_clf = {\n",
    "        'MNB': MultinomialNB(), \n",
    "        'BNB': BernoulliNB() }"
   ]
  },
  {
   "cell_type": "code",
   "execution_count": null,
   "id": "e79973e4-6ffb-4ad2-8a02-c640109f4b6a",
   "metadata": {},
   "outputs": [],
   "source": [
    "def train_classifier(clf,X_train_count,X_test_count,y_train,y_test):\n",
    "    \n",
    "    clf.fit(X_train_count,y_train)\n",
    "    score = clf.score(X_test_count,y_test)\n",
    "    \n",
    "    y_pred =clf.predict(X_test_count)\n",
    "    precision = precision_score(y_pred,y_test)\n",
    "    return score,precision"
   ]
  },
  {
   "cell_type": "code",
   "execution_count": null,
   "id": "586236c3-45f8-4a71-9f42-fe8cebb33eae",
   "metadata": {},
   "outputs": [],
   "source": [
    "report =[] \n",
    "\n",
    "\n",
    "for model_name,clf in model_clf.items():\n",
    "\n",
    "    score,precision = train_classifier(clf, X_train_count,X_test_count,y_train,y_test)\n",
    "\n",
    "    report.append({'Model': model_name,\n",
    "                 'Score' : score,\n",
    "                 'Precision':precision\n",
    "                 })\n",
    "Model_Report = pd.DataFrame(report,columns=['Model','Score','Precision']) \n",
    "Model_Report"
   ]
  },
  {
   "cell_type": "markdown",
   "id": "0ba61b2e-14c7-4c88-b61a-cc0bb366ad7d",
   "metadata": {},
   "source": [
    "# Sklearn Pipeline"
   ]
  },
  {
   "cell_type": "code",
   "execution_count": null,
   "id": "e116f8ab-548f-4a2e-85a2-3f190b8ba19d",
   "metadata": {},
   "outputs": [],
   "source": [
    "from sklearn.pipeline import Pipeline\n",
    "pipe = Pipeline([\n",
    "    ('vectorizer', CountVectorizer()),\n",
    "    ('mnb', MultinomialNB())\n",
    "])\n"
   ]
  },
  {
   "cell_type": "code",
   "execution_count": null,
   "id": "29e803bf-f2dd-429e-a15c-ad8c2330883f",
   "metadata": {},
   "outputs": [],
   "source": [
    "pipe.fit(X_train, y_train)"
   ]
  },
  {
   "cell_type": "code",
   "execution_count": null,
   "id": "858eeb2d-602c-47b1-92aa-3c1fbe101971",
   "metadata": {},
   "outputs": [],
   "source": [
    "pipe.score(X_test,y_test)"
   ]
  },
  {
   "cell_type": "code",
   "execution_count": null,
   "id": "9fc0c69d-bbaa-45d5-ba57-bf588b1b067b",
   "metadata": {},
   "outputs": [],
   "source": [
    "import joblib \n",
    "joblib.dump(pipe,\"spam_sms_model.mnb\")"
   ]
  },
  {
   "cell_type": "code",
   "execution_count": null,
   "id": "26719182-0d57-4c19-9956-db9bd590b937",
   "metadata": {},
   "outputs": [],
   "source": [
    "predict=joblib.load('spam_sms_model.mnb')\n",
    "predict"
   ]
  },
  {
   "cell_type": "code",
   "execution_count": null,
   "id": "b605ac76-be45-4389-84db-c6ea3a423604",
   "metadata": {},
   "outputs": [],
   "source": [
    "email =[\"\"\"\n",
    "            I HAVE A DATE ON SUNDAY WITH WILL!!\n",
    "            \n",
    "        \"\"\"]"
   ]
  },
  {
   "cell_type": "code",
   "execution_count": null,
   "id": "3d427696-dd6b-475b-8eca-13dcbe184631",
   "metadata": {},
   "outputs": [],
   "source": [
    "output = predict.predict(email)\n",
    "if output == 0:\n",
    "    print('Not Spam')\n",
    "else:\n",
    "    print('Spam')"
   ]
  },
  {
   "cell_type": "code",
   "execution_count": null,
   "id": "65b98b83-af94-401b-a6af-20ec142e1d66",
   "metadata": {},
   "outputs": [],
   "source": []
  },
  {
   "cell_type": "code",
   "execution_count": null,
   "id": "eba368eb-ddbc-4e17-8c92-195bb7786d78",
   "metadata": {},
   "outputs": [],
   "source": []
  }
 ],
 "metadata": {
  "kernelspec": {
   "display_name": "Python 3",
   "language": "python",
   "name": "python3"
  },
  "language_info": {
   "codemirror_mode": {
    "name": "ipython",
    "version": 3
   },
   "file_extension": ".py",
   "mimetype": "text/x-python",
   "name": "python",
   "nbconvert_exporter": "python",
   "pygments_lexer": "ipython3",
   "version": "3.8.8"
  },
  "widgets": {
   "application/vnd.jupyter.widget-state+json": {
    "state": {},
    "version_major": 2,
    "version_minor": 0
   }
  }
 },
 "nbformat": 4,
 "nbformat_minor": 5
}
